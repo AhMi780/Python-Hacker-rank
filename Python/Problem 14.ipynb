{
 "cells": [
  {
   "cell_type": "code",
   "execution_count": 92,
   "metadata": {},
   "outputs": [
    {
     "name": "stdout",
     "output_type": "stream",
     "text": [
      "5\n",
      "    -    \n",
      "   ---   \n",
      "  -----  \n",
      " ------- \n",
      "---------\n",
      "  -----               -----             \n",
      "  -----               -----             \n",
      "  -----               -----             \n",
      "  -----               -----             \n",
      "  -----               -----             \n",
      "  -------------------------   \n",
      "  -------------------------   \n",
      "  -------------------------   \n",
      "  -----               -----             \n",
      "  -----               -----             \n",
      "  -----               -----             \n",
      "  -----               -----             \n",
      "  -----               -----             \n",
      "----\n",
      "---\n",
      "--\n",
      "-\n",
      "\n"
     ]
    }
   ],
   "source": [
    "thikness = int(input())\n",
    "c = '-'\n",
    "\n",
    "for i in range (thikness):\n",
    "    print((c*i).rjust(thikness-1)+c+(c*i).ljust(thikness-1))\n",
    "for i in range(thikness):\n",
    "    print((c*thikness).center(thikness*2)+(c*thikness).center(thikness*6))\n",
    "for i in range((thikness+1)//2):\n",
    "    print((c*thikness*5).center(thikness*6))\n",
    "    \n",
    "for i in range(thikness):\n",
    "    print((c*thikness).center(thikness*2)+(c*thikness).center(thikness*6))\n",
    "for i in range(thikness):\n",
    "    print((c*(thikness-i-1)))"
   ]
  },
  {
   "cell_type": "code",
   "execution_count": 95,
   "metadata": {},
   "outputs": [
    {
     "name": "stdout",
     "output_type": "stream",
     "text": [
      "5\n",
      "    _    \n",
      "   ___   \n",
      "  _____  \n",
      " _______ \n",
      "_________\n",
      "  _____               _____             \n",
      "  _____               _____             \n",
      "  _____               _____             \n",
      "  _____               _____             \n",
      "  _____               _____             \n",
      "  _____               _____             \n",
      "  _________________________   \n",
      "  _________________________   \n",
      "  _________________________   \n",
      "  _____               _____             \n",
      "  _____               _____             \n",
      "  _____               _____             \n",
      "  _____               _____             \n",
      "  _____               _____             \n",
      "  _____               _____             \n",
      "                     _________\n",
      "                       _______\n",
      "                        _____ \n",
      "                         ___  \n",
      "                          _   \n"
     ]
    }
   ],
   "source": [
    "#Replace all ______ with rjust, ljust or center. \n",
    "\n",
    "thickness = int(input()) #This must be an odd number\n",
    "c = '_'\n",
    "\n",
    "#Top Cone\n",
    "for i in range(thickness):\n",
    "    print((c*i).rjust(thickness-1)+c+(c*i).ljust(thickness-1))\n",
    "\n",
    "#Top Pillars\n",
    "for i in range(thickness+1):\n",
    "    print((c*thickness).center(thickness*2)+(c*thickness).center(thickness*6))\n",
    "\n",
    "#Middle Belt\n",
    "for i in range((thickness+1)//2):\n",
    "    print((c*thickness*5).center(thickness*6))    \n",
    "\n",
    "#Bottom Pillars\n",
    "for i in range(thickness+1):\n",
    "    print((c*thickness).center(thickness*2)+(c*thickness).center(thickness*6))    \n",
    "\n",
    "#Bottom Cone\n",
    "for i in range(thickness):\n",
    "    print(((c*(thickness-i-1)).rjust(thickness)+c+(c*(thickness-i-1)).ljust(thickness)).rjust(thickness*6))"
   ]
  },
  {
   "cell_type": "code",
   "execution_count": 19,
   "metadata": {},
   "outputs": [
    {
     "name": "stdout",
     "output_type": "stream",
     "text": [
      "5\n",
      "    H    \n",
      "   HHH   \n",
      "  HHHHH  \n",
      " HHHHHHH \n",
      "HHHHHHHHH\n",
      "  HHHHH               HHHHH             \n",
      "  HHHHH               HHHHH             \n",
      "  HHHHH               HHHHH             \n",
      "  HHHHH               HHHHH             \n",
      "  HHHHH               HHHHH             \n",
      "  HHHHH               HHHHH             \n",
      "  HHHHHHHHHHHHHHHHHHHHHHHHH   \n",
      "  HHHHHHHHHHHHHHHHHHHHHHHHH   \n",
      "  HHHHHHHHHHHHHHHHHHHHHHHHH   \n",
      "  HHHHH               HHHHH             \n",
      "  HHHHH               HHHHH             \n",
      "  HHHHH               HHHHH             \n",
      "  HHHHH               HHHHH             \n",
      "  HHHHH               HHHHH             \n",
      "  HHHHH               HHHHH             \n"
     ]
    }
   ],
   "source": [
    "thickness = int(input()) #This must be an odd number\n",
    "c = 'H'\n",
    "\n",
    "#Top Cone\n",
    "for i in range(thickness):\n",
    "    print((c*i).rjust(thickness-1)+c+(c*i).ljust(thickness-1))\n",
    "#Top Pillars\n",
    "for i in range(thickness+1):\n",
    "    print((c*thickness).center(thickness*2)+(c*thickness).center(thickness*6))\n",
    "#Middle Belt\n",
    "for i in range((thickness+1)//2):\n",
    "    print((c*thickness*5).center(thickness*6))   \n",
    "#Bottom Pillars\n",
    "for i in range(thickness+1):\n",
    "    print((c*thickness).center(thickness*2)+(c*thickness).center(thickness*6))    \n",
    "\n"
   ]
  },
  {
   "cell_type": "code",
   "execution_count": 54,
   "metadata": {},
   "outputs": [
    {
     "name": "stdout",
     "output_type": "stream",
     "text": [
      ",,,,,,,,,,,,,,,,,,,_\n"
     ]
    }
   ],
   "source": [
    "width = 20\n",
    "\n",
    "print('_'.rjust(width,','))"
   ]
  },
  {
   "cell_type": "code",
   "execution_count": 81,
   "metadata": {},
   "outputs": [
    {
     "name": "stdout",
     "output_type": "stream",
     "text": [
      "1.6666666666666667\n"
     ]
    }
   ],
   "source": [
    "x = 5\n",
    "z = 3\n",
    "\n",
    "print(x/z)"
   ]
  },
  {
   "cell_type": "code",
   "execution_count": null,
   "metadata": {},
   "outputs": [],
   "source": []
  }
 ],
 "metadata": {
  "kernelspec": {
   "display_name": "Python 3",
   "language": "python",
   "name": "python3"
  },
  "language_info": {
   "codemirror_mode": {
    "name": "ipython",
    "version": 3
   },
   "file_extension": ".py",
   "mimetype": "text/x-python",
   "name": "python",
   "nbconvert_exporter": "python",
   "pygments_lexer": "ipython3",
   "version": "3.8.3"
  }
 },
 "nbformat": 4,
 "nbformat_minor": 4
}
