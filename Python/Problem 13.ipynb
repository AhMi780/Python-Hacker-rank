{
 "cells": [
  {
   "cell_type": "code",
   "execution_count": 31,
   "metadata": {},
   "outputs": [
    {
     "name": "stdout",
     "output_type": "stream",
     "text": [
      "qA2\n",
      "True\n",
      "True\n",
      "True\n",
      "True\n",
      "True\n"
     ]
    }
   ],
   "source": [
    "s = input()\n",
    "if s.isalnum:\n",
    "    print(True)\n",
    "else:\n",
    "    print(False)\n",
    "if s.isalpha:\n",
    "    print(True)\n",
    "else:\n",
    "    print(False)\n",
    "if s.isdigit:\n",
    "    print(True)\n",
    "else:\n",
    "    print(False)\n",
    "if s.islower:\n",
    "    print(True)\n",
    "else:\n",
    "    print(False)\n",
    "if s.isupper:\n",
    "    print(True)\n",
    "else:\n",
    "    print(False)"
   ]
  },
  {
   "cell_type": "code",
   "execution_count": 37,
   "metadata": {},
   "outputs": [
    {
     "name": "stdout",
     "output_type": "stream",
     "text": [
      "qA2\n",
      "True\n",
      "True\n",
      "True\n",
      "True\n",
      "True\n"
     ]
    }
   ],
   "source": [
    "a= ['isalnum()','isalpha()','isdigit()','islower()','isupper()']\n",
    "str = input()\n",
    "for i in a:\n",
    "    print(any(eval('x.'+''.join(i))for x in str))"
   ]
  },
  {
   "cell_type": "code",
   "execution_count": 14,
   "metadata": {},
   "outputs": [
    {
     "name": "stdout",
     "output_type": "stream",
     "text": [
      "qA2\n",
      "True\n",
      "True\n",
      "True\n",
      "True\n",
      "True\n"
     ]
    }
   ],
   "source": [
    "str = input()\n",
    "print (any(c.isalnum()  for c in str))\n",
    "print (any(c.isalpha() for c in str))\n",
    "print (any(c.isdigit() for c in str))\n",
    "print (any(c.islower() for c in str))\n",
    "print (any(c.isupper() for c in str))"
   ]
  },
  {
   "cell_type": "code",
   "execution_count": 36,
   "metadata": {},
   "outputs": [
    {
     "name": "stdout",
     "output_type": "stream",
     "text": [
      "qA2\n",
      "True\n",
      "True\n",
      "True\n",
      "True\n",
      "True\n"
     ]
    }
   ],
   "source": [
    "s = input()\n",
    "for test in ('isalnum', 'isalpha', 'isdigit', 'islower', 'isupper'):\n",
    "        print(any(eval(\"c.\" + test + \"()\") for c in s))\n"
   ]
  },
  {
   "cell_type": "code",
   "execution_count": null,
   "metadata": {},
   "outputs": [],
   "source": []
  }
 ],
 "metadata": {
  "kernelspec": {
   "display_name": "Python 3",
   "language": "python",
   "name": "python3"
  },
  "language_info": {
   "codemirror_mode": {
    "name": "ipython",
    "version": 3
   },
   "file_extension": ".py",
   "mimetype": "text/x-python",
   "name": "python",
   "nbconvert_exporter": "python",
   "pygments_lexer": "ipython3",
   "version": "3.8.3"
  }
 },
 "nbformat": 4,
 "nbformat_minor": 4
}
