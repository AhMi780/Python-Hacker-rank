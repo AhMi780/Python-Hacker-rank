{
 "cells": [
  {
   "cell_type": "code",
   "execution_count": 25,
   "metadata": {},
   "outputs": [
    {
     "name": "stdout",
     "output_type": "stream",
     "text": [
      "6\n",
      "----------f----------\n",
      "--------f-e-f--------\n",
      "------f-e-d-e-f------\n",
      "----f-e-d-c-d-e-f----\n",
      "--f-e-d-c-b-c-d-e-f--\n",
      "f-e-d-c-b-a-b-c-d-e-f\n",
      "--f-e-d-c-b-c-d-e-f--\n",
      "----f-e-d-c-d-e-f----\n",
      "------f-e-d-e-f------\n",
      "--------f-e-f--------\n",
      "----------f----------\n"
     ]
    }
   ],
   "source": [
    "import string\n",
    "def print_rangoli(size):\n",
    "    alpha = string.ascii_lowercase\n",
    "    data = [alpha[i] for i in range(n)]\n",
    "    items = list(range(n))\n",
    "    items = items[:-1]+items[::-1]\n",
    "    for i in items:\n",
    "        temp = data[-(i+1):]\n",
    "        row = temp[::-1]+temp[1:]\n",
    "        print(\"-\".join(row).center(n*4-3,'-'))\n",
    "\n",
    "if __name__ == '__main__':\n",
    "    n = int(input())\n",
    "    print_rangoli(n)"
   ]
  },
  {
   "cell_type": "code",
   "execution_count": null,
   "metadata": {},
   "outputs": [],
   "source": []
  },
  {
   "cell_type": "code",
   "execution_count": null,
   "metadata": {},
   "outputs": [],
   "source": []
  }
 ],
 "metadata": {
  "kernelspec": {
   "display_name": "Python 3",
   "language": "python",
   "name": "python3"
  },
  "language_info": {
   "codemirror_mode": {
    "name": "ipython",
    "version": 3
   },
   "file_extension": ".py",
   "mimetype": "text/x-python",
   "name": "python",
   "nbconvert_exporter": "python",
   "pygments_lexer": "ipython3",
   "version": "3.8.3"
  }
 },
 "nbformat": 4,
 "nbformat_minor": 4
}
