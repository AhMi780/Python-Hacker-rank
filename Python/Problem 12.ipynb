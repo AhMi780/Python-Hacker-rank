{
 "cells": [
  {
   "cell_type": "code",
   "execution_count": 6,
   "metadata": {},
   "outputs": [
    {
     "name": "stdout",
     "output_type": "stream",
     "text": [
      "abdiciekckiekciecikalw\n",
      "ci\n",
      "3\n"
     ]
    }
   ],
   "source": [
    "import re\n",
    "\n",
    "def count_substring(string, sub_string):\n",
    "    n = re.findall((r'(?='+sub_string + ')'), string)\n",
    "    return len(n)\n",
    "\n",
    "if __name__ == '__main__':\n",
    "    string = input().strip()\n",
    "    sub_string = input().strip()\n",
    "    \n",
    "    count = count_substring(string, sub_string)\n",
    "    print(count)"
   ]
  },
  {
   "cell_type": "code",
   "execution_count": 2,
   "metadata": {},
   "outputs": [
    {
     "name": "stdout",
     "output_type": "stream",
     "text": [
      "a\n",
      "d\n",
      "k\n",
      "i\n",
      "e\n"
     ]
    }
   ],
   "source": [
    "s = 'adkie'\n",
    "for i in range(0, len(s)):\n",
    "    print (s[i])"
   ]
  },
  {
   "cell_type": "code",
   "execution_count": null,
   "metadata": {},
   "outputs": [],
   "source": [
    "def count_substring(string, substr):\n",
    "    occurrences = 0\n",
    "    for i in range(0, len(string) - len(substr) + 1):\n",
    "        if string[i:i + len(substr)] == substr:\n",
    "            occurrences += 1\n",
    "    return occurrences\n"
   ]
  }
 ],
 "metadata": {
  "kernelspec": {
   "display_name": "Python 3",
   "language": "python",
   "name": "python3"
  },
  "language_info": {
   "codemirror_mode": {
    "name": "ipython",
    "version": 3
   },
   "file_extension": ".py",
   "mimetype": "text/x-python",
   "name": "python",
   "nbconvert_exporter": "python",
   "pygments_lexer": "ipython3",
   "version": "3.8.3"
  }
 },
 "nbformat": 4,
 "nbformat_minor": 4
}
