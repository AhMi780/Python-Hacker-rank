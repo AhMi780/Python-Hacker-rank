{
 "cells": [
  {
   "cell_type": "code",
   "execution_count": 84,
   "metadata": {},
   "outputs": [
    {
     "name": "stdout",
     "output_type": "stream",
     "text": [
      "4\n",
      "------------.|.------------\n",
      "---------.|..|..|.---------\n",
      "------.|..|..|..|..|.------\n",
      "---.|..|..|..|..|..|..|.---\n",
      "-----------WLCOME----------\n",
      "---.|..|..|..|..|..|..|.---\n",
      "------.|..|..|..|..|.------\n",
      "---------.|..|..|.---------\n",
      "------------.|.------------\n"
     ]
    }
   ],
   "source": [
    "x= int(input())\n",
    "# a = int(input())\n",
    "# a//=x\n",
    "c = '.|.'\n",
    "for i in range(x):\n",
    "    print((c*i).rjust(x*3,'-')+c+(c*i).ljust(x*3,'-'))\n",
    "print('WLCOME'.center(27,'-'))\n",
    "for i in reversed(range(x)):\n",
    "    print((c*i).rjust(x*3,'-')+c+(c*i).ljust(x*3,'-'))\n"
   ]
  },
  {
   "cell_type": "code",
   "execution_count": 61,
   "metadata": {},
   "outputs": [
    {
     "name": "stdout",
     "output_type": "stream",
     "text": [
      "\n",
      ".|..|..|..|.\n",
      ".|..|..|..|..|..|..|..|.\n",
      ".|..|..|..|..|..|..|..|..|..|..|..|.\n"
     ]
    }
   ],
   "source": [
    "for i in range(x):\n",
    "    print((c*i()))"
   ]
  },
  {
   "cell_type": "code",
   "execution_count": 51,
   "metadata": {},
   "outputs": [
    {
     "name": "stdout",
     "output_type": "stream",
     "text": [
      "_______________hacker______________\n"
     ]
    }
   ],
   "source": [
    "t = 'hacker'\n",
    "w = 5\n",
    "print(t.center(w*7,'_'))"
   ]
  },
  {
   "cell_type": "code",
   "execution_count": 64,
   "metadata": {},
   "outputs": [
    {
     "name": "stdout",
     "output_type": "stream",
     "text": [
      "9\n",
      "8\n",
      "7\n",
      "6\n",
      "5\n",
      "4\n",
      "3\n",
      "2\n",
      "1\n",
      "0\n"
     ]
    }
   ],
   "source": [
    "for i in reversed(range(10)):\n",
    "    print(i)"
   ]
  },
  {
   "cell_type": "code",
   "execution_count": 78,
   "metadata": {},
   "outputs": [
    {
     "name": "stdout",
     "output_type": "stream",
     "text": [
      "5\n"
     ]
    }
   ],
   "source": [
    "print(9//2+1)"
   ]
  },
  {
   "cell_type": "code",
   "execution_count": 96,
   "metadata": {},
   "outputs": [
    {
     "name": "stdout",
     "output_type": "stream",
     "text": [
      "9 7\n",
      "--.|.--\n",
      ".|..|..|.\n",
      ".|..|..|..|..|.\n",
      ".|..|..|..|..|..|..|.\n",
      "welcome\n",
      ".|..|..|..|..|..|..|.\n",
      ".|..|..|..|..|.\n",
      ".|..|..|.\n",
      "--.|.--\n"
     ]
    }
   ],
   "source": [
    "rows,columns = map(int,input().split())\n",
    "\n",
    "middle = rows//2+1\n",
    "for i in range(1,middle):\n",
    "    x = (i*2-1)*'.|.'\n",
    "    print(x.center(columns,'-'))\n",
    "print('welcome'.center(columns,'-'))\n",
    "for i in reversed(range(1,middle)):\n",
    "    x = (i*2-1)*'.|.'\n",
    "    print(x.center(columns,'-'))"
   ]
  },
  {
   "cell_type": "code",
   "execution_count": null,
   "metadata": {},
   "outputs": [],
   "source": []
  }
 ],
 "metadata": {
  "kernelspec": {
   "display_name": "Python 3",
   "language": "python",
   "name": "python3"
  },
  "language_info": {
   "codemirror_mode": {
    "name": "ipython",
    "version": 3
   },
   "file_extension": ".py",
   "mimetype": "text/x-python",
   "name": "python",
   "nbconvert_exporter": "python",
   "pygments_lexer": "ipython3",
   "version": "3.8.3"
  }
 },
 "nbformat": 4,
 "nbformat_minor": 4
}
