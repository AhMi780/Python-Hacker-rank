{
 "cells": [
  {
   "cell_type": "code",
   "execution_count": 26,
   "metadata": {},
   "outputs": [
    {
     "name": "stdout",
     "output_type": "stream",
     "text": [
      "5\n",
      "ali\n",
      "3.0\n",
      "usama\n",
      "5.0\n",
      "noman\n",
      "6.0\n",
      "baba\n",
      "6.0\n",
      "naseeb\n",
      "8.0\n",
      "[['ali', 3.0], ['usama', 5.0], ['noman', 6.0], ['baba', 6.0], ['naseeb', 8.0]]\n",
      "5.0\n"
     ]
    }
   ],
   "source": [
    "n = int(input())\n",
    "\n",
    "my_records = [[str(input()),float(input())] for _ in range(n)]\n",
    "print(my_records)\n",
    "lowest = sorted(list(set([v for n,v in my_records])))[1]\n",
    "print(lowest)\n",
    "print(\"\\n\".join([n for n,v in sorted(my_records) if v==lowest ]))"
   ]
  },
  {
   "cell_type": "code",
   "execution_count": 27,
   "metadata": {},
   "outputs": [
    {
     "name": "stdout",
     "output_type": "stream",
     "text": [
      "usama\n"
     ]
    }
   ],
   "source": []
  },
  {
   "cell_type": "code",
   "execution_count": 3,
   "metadata": {},
   "outputs": [
    {
     "name": "stdout",
     "output_type": "stream",
     "text": [
      "3\n",
      "a\n",
      "4.0\n",
      "c\n",
      "5.0\n",
      "b\n",
      "4.0\n",
      "dict_keys(['a', 'c', 'b'])\n"
     ]
    }
   ],
   "source": [
    "d={} #1\n",
    "for _ in range(int(input())): #2\n",
    "    Name=str(input()) #3\n",
    "    Grade=float(input()) #4\n",
    "    d[Name]=Grade #5\n"
   ]
  },
  {
   "cell_type": "code",
   "execution_count": 9,
   "metadata": {},
   "outputs": [
    {
     "name": "stdout",
     "output_type": "stream",
     "text": [
      "dict_values([4.0, 5.0, 4.0])\n",
      "5.0\n",
      "c\n"
     ]
    }
   ],
   "source": [
    "v=d.values()#6\n",
    "print(v)\n",
    "second=sorted(list(set(v)))[1] #7\n",
    "print(second)\n",
    "second_lowest=[] #8\n",
    "for key,value in d.items():  #9\n",
    "    if value==second: #10\n",
    "        second_lowest.append(key) #11\n",
    "second_lowest.sort() #12\n",
    "for name in second_lowest: #13\n",
    "    print (name) #14\n"
   ]
  },
  {
   "cell_type": "code",
   "execution_count": null,
   "metadata": {},
   "outputs": [],
   "source": []
  }
 ],
 "metadata": {
  "kernelspec": {
   "display_name": "Python 3",
   "language": "python",
   "name": "python3"
  },
  "language_info": {
   "codemirror_mode": {
    "name": "ipython",
    "version": 3
   },
   "file_extension": ".py",
   "mimetype": "text/x-python",
   "name": "python",
   "nbconvert_exporter": "python",
   "pygments_lexer": "ipython3",
   "version": "3.8.3"
  }
 },
 "nbformat": 4,
 "nbformat_minor": 4
}
