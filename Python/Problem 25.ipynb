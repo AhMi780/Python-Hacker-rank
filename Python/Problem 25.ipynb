{
 "cells": [
  {
   "cell_type": "code",
   "execution_count": 2,
   "metadata": {},
   "outputs": [],
   "source": [
    "from itertools import permutations"
   ]
  },
  {
   "cell_type": "code",
   "execution_count": 61,
   "metadata": {},
   "outputs": [
    {
     "ename": "SyntaxError",
     "evalue": "unexpected EOF while parsing (<ipython-input-61-6d49fb7ace35>, line 3)",
     "output_type": "error",
     "traceback": [
      "\u001b[0;36m  File \u001b[0;32m\"<ipython-input-61-6d49fb7ace35>\"\u001b[0;36m, line \u001b[0;32m3\u001b[0m\n\u001b[0;31m    print(list(permutations(x,int(n)))\u001b[0m\n\u001b[0m                                      ^\u001b[0m\n\u001b[0;31mSyntaxError\u001b[0m\u001b[0;31m:\u001b[0m unexpected EOF while parsing\n"
     ]
    }
   ],
   "source": [
    "x,n = input().split(maxsplit=1)\n",
    "x = sorted(x)\n",
    "print(list(permutations(x,int(n)))"
   ]
  },
  {
   "cell_type": "code",
   "execution_count": 64,
   "metadata": {},
   "outputs": [
    {
     "name": "stdout",
     "output_type": "stream",
     "text": [
      "skid 2\n",
      "d i\n",
      "d k\n",
      "d s\n",
      "i d\n",
      "i k\n",
      "i s\n",
      "k d\n",
      "k i\n",
      "k s\n",
      "s d\n",
      "s i\n",
      "s k\n"
     ]
    }
   ],
   "source": [
    "x,n = input().split()\n",
    "a =list(permutations(sorted(x),int(n)))\n",
    "a.sort()\n",
    "for i in a:\n",
    "    print(' '.join(i))"
   ]
  },
  {
   "cell_type": "code",
   "execution_count": 55,
   "metadata": {},
   "outputs": [
    {
     "ename": "SyntaxError",
     "evalue": "invalid syntax (<ipython-input-55-e4cea0b23f2d>, line 2)",
     "output_type": "error",
     "traceback": [
      "\u001b[0;36m  File \u001b[0;32m\"<ipython-input-55-e4cea0b23f2d>\"\u001b[0;36m, line \u001b[0;32m2\u001b[0m\n\u001b[0;31m    print(*[for i in permutations(sorted(a))])\u001b[0m\n\u001b[0m            ^\u001b[0m\n\u001b[0;31mSyntaxError\u001b[0m\u001b[0;31m:\u001b[0m invalid syntax\n"
     ]
    }
   ],
   "source": [
    "a,b = input().split()\n",
    "print(*[print(for i in permutations(sorted(a))])"
   ]
  },
  {
   "cell_type": "code",
   "execution_count": 65,
   "metadata": {},
   "outputs": [
    {
     "name": "stdout",
     "output_type": "stream",
     "text": [
      "askd 2\n",
      "ad\n",
      "ak\n",
      "as\n",
      "da\n",
      "dk\n",
      "ds\n",
      "ka\n",
      "kd\n",
      "ks\n",
      "sa\n",
      "sd\n",
      "sk\n"
     ]
    }
   ],
   "source": [
    "x,n = input().split()\n",
    "a = list(permutations(sorted(x),int(n)))\n",
    "a.sort()\n",
    "for i in a:\n",
    "    print(''.join(i))"
   ]
  },
  {
   "cell_type": "code",
   "execution_count": null,
   "metadata": {},
   "outputs": [],
   "source": []
  }
 ],
 "metadata": {
  "kernelspec": {
   "display_name": "Python 3",
   "language": "python",
   "name": "python3"
  },
  "language_info": {
   "codemirror_mode": {
    "name": "ipython",
    "version": 3
   },
   "file_extension": ".py",
   "mimetype": "text/x-python",
   "name": "python",
   "nbconvert_exporter": "python",
   "pygments_lexer": "ipython3",
   "version": "3.8.3"
  }
 },
 "nbformat": 4,
 "nbformat_minor": 4
}
