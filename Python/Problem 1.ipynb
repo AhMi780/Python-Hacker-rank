{
 "cells": [
  {
   "cell_type": "code",
   "execution_count": null,
   "metadata": {},
   "outputs": [],
   "source": [
    "import math\n",
    "import os\n",
    "import random\n",
    "import re\n",
    "import sys\n",
    "\n",
    "\n",
    "n = int(input())\n",
    "\n",
    "if not (n%2) == 0:\n",
    "    print('Weired')\n",
    "    \n",
    "elif (n%2) == 0 and n in range(2,5):\n",
    "    print('not Wiered')\n",
    "elif (n%2) == 0 and n in range(6,21):\n",
    "    print('Wieried')\n",
    "elif (n%2) == 0 and n > 20:\n",
    "    print('not wiered')"
   ]
  },
  {
   "cell_type": "code",
   "execution_count": null,
   "metadata": {},
   "outputs": [],
   "source": [
    "## n = int(input())\n",
    "\n",
    "if n%2==0 and (n in range(2,6) or n>20 ):\n",
    "    print (\"Not \",end='')\n",
    "\n",
    "print (\"Weird\")"
   ]
  },
  {
   "cell_type": "code",
   "execution_count": null,
   "metadata": {},
   "outputs": [],
   "source": []
  },
  {
   "cell_type": "code",
   "execution_count": null,
   "metadata": {},
   "outputs": [],
   "source": []
  }
 ],
 "metadata": {
  "kernelspec": {
   "display_name": "Python 3",
   "language": "python",
   "name": "python3"
  },
  "language_info": {
   "codemirror_mode": {
    "name": "ipython",
    "version": 2
   },
   "file_extension": ".py",
   "mimetype": "text/x-python",
   "name": "python",
   "nbconvert_exporter": "python",
   "pygments_lexer": "ipython2",
   "version": "2.7.17"
  }
 },
 "nbformat": 4,
 "nbformat_minor": 2
}
