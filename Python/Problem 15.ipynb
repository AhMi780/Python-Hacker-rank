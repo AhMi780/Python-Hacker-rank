{
 "cells": [
  {
   "cell_type": "code",
   "execution_count": 2,
   "metadata": {},
   "outputs": [
    {
     "name": "stdout",
     "output_type": "stream",
     "text": [
      "alasdkjfjioiejajdiekg\n",
      "4\n",
      "alas\n",
      "dkjf\n",
      "jioi\n",
      "ejaj\n",
      "diek\n",
      "g\n"
     ]
    }
   ],
   "source": [
    "import textwrap\n",
    "\n",
    "def wrap(string, max_width):\n",
    "    x= '\\n'.join(textwrap.wrap(string, max_width))\n",
    "    return x\n",
    "# we can also return without assigning variable \n",
    "# example : return '\\n'.join(textwrap.wrap(string, max_width))\n",
    "\n",
    "if __name__ == '__main__':\n",
    "    string, max_width = input(), int(input())\n",
    "    result = wrap(string, max_width)\n",
    "    print(result)"
   ]
  },
  {
   "cell_type": "code",
   "execution_count": 7,
   "metadata": {},
   "outputs": [
    {
     "name": "stdout",
     "output_type": "stream",
     "text": [
      "asldjkfhuekasduhfueikjdu\n",
      "4\n",
      "asld\n",
      "jkfh\n",
      "ueka\n",
      "sduh\n",
      "fuei\n",
      "kjdu\n"
     ]
    }
   ],
   "source": [
    "# without importing text wrap\n",
    "def wwrap(s,w):\n",
    "    return '\\n'.join([s[i:i+w] for i in range(0,len(s),w)])\n",
    "if __name__ == '__main__':\n",
    "    s, w = input(), int(input())\n",
    "    result = wwrap(s, w)\n",
    "    print(result)"
   ]
  },
  {
   "cell_type": "code",
   "execution_count": null,
   "metadata": {},
   "outputs": [],
   "source": []
  }
 ],
 "metadata": {
  "kernelspec": {
   "display_name": "Python 3",
   "language": "python",
   "name": "python3"
  },
  "language_info": {
   "codemirror_mode": {
    "name": "ipython",
    "version": 3
   },
   "file_extension": ".py",
   "mimetype": "text/x-python",
   "name": "python",
   "nbconvert_exporter": "python",
   "pygments_lexer": "ipython3",
   "version": "3.8.3"
  }
 },
 "nbformat": 4,
 "nbformat_minor": 4
}
