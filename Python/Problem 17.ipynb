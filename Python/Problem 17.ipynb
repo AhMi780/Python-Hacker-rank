{
 "cells": [
  {
   "cell_type": "code",
   "execution_count": 12,
   "metadata": {},
   "outputs": [
    {
     "name": "stdout",
     "output_type": "stream",
     "text": [
      "0\n"
     ]
    }
   ],
   "source": [
    "binary = int(input())\n",
    "\n",
    "\n",
    "\n",
    "def check_binary(num):\n",
    "    if num>1:\n",
    "        return bin(num).replace('0b','')\n",
    "\n",
    "for i in range(1,binary+1):\n",
    "    print(check_binary(i))"
   ]
  },
  {
   "cell_type": "code",
   "execution_count": 18,
   "metadata": {},
   "outputs": [
    {
     "ename": "TypeError",
     "evalue": "'int' object is not iterable",
     "output_type": "error",
     "traceback": [
      "\u001b[0;31m---------------------------------------------------------------------------\u001b[0m",
      "\u001b[0;31mTypeError\u001b[0m                                 Traceback (most recent call last)",
      "\u001b[0;32m<ipython-input-18-44e263122e40>\u001b[0m in \u001b[0;36m<module>\u001b[0;34m\u001b[0m\n\u001b[1;32m      1\u001b[0m \u001b[0mx\u001b[0m \u001b[0;34m=\u001b[0m \u001b[0;36m18\u001b[0m\u001b[0;34m\u001b[0m\u001b[0;34m\u001b[0m\u001b[0m\n\u001b[0;32m----> 2\u001b[0;31m \u001b[0;32mfor\u001b[0m \u001b[0mi\u001b[0m \u001b[0;32min\u001b[0m \u001b[0mx\u001b[0m\u001b[0;34m:\u001b[0m\u001b[0;34m\u001b[0m\u001b[0;34m\u001b[0m\u001b[0m\n\u001b[0m\u001b[1;32m      3\u001b[0m     \u001b[0mb\u001b[0m \u001b[0;34m=\u001b[0m \u001b[0mi\u001b[0m\u001b[0;34m/\u001b[0m\u001b[0;36m8\u001b[0m\u001b[0;34m\u001b[0m\u001b[0;34m\u001b[0m\u001b[0m\n",
      "\u001b[0;31mTypeError\u001b[0m: 'int' object is not iterable"
     ]
    }
   ],
   "source": [
    "x = 18\n",
    "for i in x:\n",
    "    b = i/8"
   ]
  },
  {
   "cell_type": "code",
   "execution_count": 23,
   "metadata": {},
   "outputs": [
    {
     "name": "stdout",
     "output_type": "stream",
     "text": [
      "17\n",
      "    1     1     1     1\n",
      "    2     2     2    10\n",
      "    3     3     3    11\n",
      "    4     4     4   100\n",
      "    5     5     5   101\n",
      "    6     6     6   110\n",
      "    7     7     7   111\n",
      "    8    10     8  1000\n",
      "    9    11     9  1001\n",
      "   10    12     A  1010\n",
      "   11    13     B  1011\n",
      "   12    14     C  1100\n",
      "   13    15     D  1101\n",
      "   14    16     E  1110\n",
      "   15    17     F  1111\n",
      "   16    20    10 10000\n",
      "   17    21    11 10001\n"
     ]
    }
   ],
   "source": [
    "n = int(input())\n",
    "width = len(\"{0:b}\".format(n))\n",
    "for i in range(1,n+1):\n",
    "    print(\"{0:{width}d} {0:{width}o} {0:{width}X} {0:{width}b}\".format(i, width=width))\n"
   ]
  },
  {
   "cell_type": "code",
   "execution_count": 48,
   "metadata": {},
   "outputs": [
    {
     "name": "stdout",
     "output_type": "stream",
     "text": [
      "19\n",
      "    1     1     1     1\n",
      "    2     2     2    10\n",
      "    3     3     3    11\n",
      "    4     4     4   100\n",
      "    5     5     5   101\n",
      "    6     6     6   110\n",
      "    7     7     7   111\n",
      "    8    10     8  1000\n",
      "    9    11     9  1001\n",
      "   10    12     A  1010\n",
      "   11    13     B  1011\n",
      "   12    14     C  1100\n",
      "   13    15     D  1101\n",
      "   14    16     E  1110\n",
      "   15    17     F  1111\n",
      "   16    20    10 10000\n",
      "   17    21    11 10001\n",
      "   18    22    12 10010\n",
      "   19    23    13 10011\n"
     ]
    }
   ],
   "source": [
    "def print_formatted(number):\n",
    "    for i in range(1,number+1):\n",
    "        c = len(bin(number)[2:])\n",
    "        print(f\"{str(i).rjust(c)} {oct(i)[2:].rjust(c)} {hex(i)[2:].upper().rjust(c)} {bin(i)[2:].rjust(c)}\")\n",
    "        \n",
    "\n",
    "if __name__ == '__main__':\n",
    "    n = int(input())\n",
    "    print_formatted(n)"
   ]
  },
  {
   "cell_type": "code",
   "execution_count": 41,
   "metadata": {},
   "outputs": [
    {
     "name": "stdout",
     "output_type": "stream",
     "text": [
      "For only 49.00 dollars!\n"
     ]
    }
   ],
   "source": [
    " txt = \"For only {price:.2f} dollars!\"\n",
    "print(txt.format(price = 49))\n"
   ]
  },
  {
   "cell_type": "code",
   "execution_count": null,
   "metadata": {},
   "outputs": [],
   "source": []
  }
 ],
 "metadata": {
  "kernelspec": {
   "display_name": "Python 3",
   "language": "python",
   "name": "python3"
  },
  "language_info": {
   "codemirror_mode": {
    "name": "ipython",
    "version": 3
   },
   "file_extension": ".py",
   "mimetype": "text/x-python",
   "name": "python",
   "nbconvert_exporter": "python",
   "pygments_lexer": "ipython3",
   "version": "3.8.3"
  }
 },
 "nbformat": 4,
 "nbformat_minor": 4
}
