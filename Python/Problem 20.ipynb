{
 "cells": [
  {
   "cell_type": "code",
   "execution_count": 12,
   "metadata": {},
   "outputs": [
    {
     "ename": "SyntaxError",
     "evalue": "invalid syntax (<ipython-input-12-d453c6467d36>, line 6)",
     "output_type": "error",
     "traceback": [
      "\u001b[0;36m  File \u001b[0;32m\"<ipython-input-12-d453c6467d36>\"\u001b[0;36m, line \u001b[0;32m6\u001b[0m\n\u001b[0;31m    print(map([i:]))\u001b[0m\n\u001b[0m                ^\u001b[0m\n\u001b[0;31mSyntaxError\u001b[0m\u001b[0;31m:\u001b[0m invalid syntax\n"
     ]
    }
   ],
   "source": [
    "x = list(str(input()))\n",
    "print(x)\n",
    "vowels = list('aeiou')\n",
    "for i in x:\n",
    "    j=0\n",
    "    if i not in vowels:\n",
    "        l \n",
    "        \n",
    "        \n",
    "\n",
    "        \n",
    "        "
   ]
  },
  {
   "cell_type": "code",
   "execution_count": 16,
   "metadata": {},
   "outputs": [
    {
     "name": "stdout",
     "output_type": "stream",
     "text": [
      "banana\n",
      "an\n",
      "2\n"
     ]
    }
   ],
   "source": [
    "pattern = input()\n",
    "txt = input()\n",
    "res= x.count(b)\n",
    "print(res)"
   ]
  },
  {
   "cell_type": "code",
   "execution_count": 20,
   "metadata": {},
   "outputs": [
    {
     "name": "stdout",
     "output_type": "stream",
     "text": [
      "stuart 12\n"
     ]
    }
   ],
   "source": [
    "def minion(string):\n",
    "    kevin,stuart=(0,0)\n",
    "    for i in range(len(string)):\n",
    "        if string[i] in 'AEIOU':\n",
    "            kevin +=len(string) - i\n",
    "        else:\n",
    "            stuart += len(string) - i\n",
    "    \n",
    "    if kevin > stuart:\n",
    "        print(\"kevin\", kevin)\n",
    "    elif stuart > kevin:\n",
    "        print('stuart', stuart)\n",
    "    else:\n",
    "        print('Draw')\n",
    "        \n",
    "minion('BANANA')"
   ]
  },
  {
   "cell_type": "code",
   "execution_count": 24,
   "metadata": {},
   "outputs": [
    {
     "name": "stdout",
     "output_type": "stream",
     "text": [
      "6\n",
      "5\n",
      "10\n",
      "8\n",
      "12\n",
      "9\n",
      "Stuart 12\n"
     ]
    }
   ],
   "source": [
    "def minion_game(string):\n",
    "    kevin,stuart = (0,0)\n",
    "    for i in range(len(string)):\n",
    "        if string[i] in 'AEIOU':\n",
    "            kevin += len(string) - i\n",
    "            print(kevin)\n",
    "        else:\n",
    "            stuart += len(string) - i\n",
    "            print(stuart)\n",
    "    if kevin > stuart:\n",
    "        print('Kevin', kevin )\n",
    "    elif stuart > kevin:\n",
    "        print('Stuart', stuart)\n",
    "    else:\n",
    "        print('Draw')\n",
    "\n",
    "if __name__ == '__main__':\n",
    "    s = 'BANANA'\n",
    "    minion_game(s)"
   ]
  },
  {
   "cell_type": "code",
   "execution_count": 27,
   "metadata": {},
   "outputs": [
    {
     "name": "stdout",
     "output_type": "stream",
     "text": [
      "6\n"
     ]
    }
   ],
   "source": [
    "a = 'banana'\n",
    "print(len(a))"
   ]
  },
  {
   "cell_type": "code",
   "execution_count": null,
   "metadata": {},
   "outputs": [],
   "source": []
  }
 ],
 "metadata": {
  "kernelspec": {
   "display_name": "Python 3",
   "language": "python",
   "name": "python3"
  },
  "language_info": {
   "codemirror_mode": {
    "name": "ipython",
    "version": 3
   },
   "file_extension": ".py",
   "mimetype": "text/x-python",
   "name": "python",
   "nbconvert_exporter": "python",
   "pygments_lexer": "ipython3",
   "version": "3.8.3"
  }
 },
 "nbformat": 4,
 "nbformat_minor": 4
}
